{
 "cells": [
  {
   "cell_type": "markdown",
   "id": "18838afe",
   "metadata": {},
   "source": [
    "## Criado um chatbot Inteligente"
   ]
  },
  {
   "cell_type": "code",
   "execution_count": 2,
   "id": "2a121799",
   "metadata": {},
   "outputs": [],
   "source": [
    "from chatterbot import ChatBot\n",
    "from chatterbot.trainers import ListTrainer"
   ]
  },
  {
   "cell_type": "code",
   "execution_count": 6,
   "id": "be8c569e",
   "metadata": {},
   "outputs": [
    {
     "name": "stderr",
     "output_type": "stream",
     "text": [
      "[nltk_data] Downloading package averaged_perceptron_tagger to\n",
      "[nltk_data]     /home/nlnadialigia/nltk_data...\n",
      "[nltk_data]   Package averaged_perceptron_tagger is already up-to-\n",
      "[nltk_data]       date!\n",
      "[nltk_data] Downloading package stopwords to\n",
      "[nltk_data]     /home/nlnadialigia/nltk_data...\n",
      "[nltk_data]   Package stopwords is already up-to-date!\n"
     ]
    }
   ],
   "source": [
    "chatbot = ChatBot('BotNew')"
   ]
  },
  {
   "cell_type": "code",
   "execution_count": 16,
   "id": "63b3229d",
   "metadata": {},
   "outputs": [],
   "source": [
    "conversa = [\n",
    "    'Coe',\n",
    "    'E aí, tranquilo?',\n",
    "    'Tranquilo',\n",
    "    'Qual a boa de hoje?',\n",
    "    'A Hashtag tṕa ensinando Python e até chatbot',\n",
    "    'Caraca',\n",
    "    'Maneiro',\n",
    "    'Irado'\n",
    "]"
   ]
  },
  {
   "cell_type": "code",
   "execution_count": 10,
   "id": "31b560b2",
   "metadata": {},
   "outputs": [],
   "source": [
    "trainer = ListTrainer(chatbot)"
   ]
  },
  {
   "cell_type": "code",
   "execution_count": 17,
   "id": "592c30ef",
   "metadata": {},
   "outputs": [
    {
     "name": "stdout",
     "output_type": "stream",
     "text": [
      "List Trainer: [####################] 100%\n"
     ]
    }
   ],
   "source": [
    "trainer.train(conversa)"
   ]
  },
  {
   "cell_type": "code",
   "execution_count": 13,
   "id": "f542de82",
   "metadata": {},
   "outputs": [
    {
     "data": {
      "text/plain": [
       "<Statement text:A Hashtag tṕa ensinando Python e até chatbot>"
      ]
     },
     "execution_count": 13,
     "metadata": {},
     "output_type": "execute_result"
    }
   ],
   "source": [
    "chatbot.get_response('Qual a boa?')"
   ]
  },
  {
   "cell_type": "code",
   "execution_count": 14,
   "id": "72a57f7f",
   "metadata": {},
   "outputs": [
    {
     "data": {
      "text/plain": [
       "<Statement text:Caraca>"
      ]
     },
     "execution_count": 14,
     "metadata": {},
     "output_type": "execute_result"
    }
   ],
   "source": [
    "chatbot.get_response('Hashtag')"
   ]
  },
  {
   "cell_type": "code",
   "execution_count": 15,
   "id": "504c43c6",
   "metadata": {},
   "outputs": [],
   "source": [
    "chatbot.storage.drop()"
   ]
  },
  {
   "cell_type": "code",
   "execution_count": null,
   "id": "1dafe7a0",
   "metadata": {},
   "outputs": [],
   "source": [
    "while True:\n",
    "    mensagem = input('Mande uma mensagem para o chatbot: ')\n",
    "    if mensagem == 'parar':\n",
    "        break\n",
    "    resposta = chatbot.get_response(mensagem)\n",
    "    print(resposta)\n",
    "    "
   ]
  }
 ],
 "metadata": {
  "kernelspec": {
   "display_name": "Python 3 (ipykernel)",
   "language": "python",
   "name": "python3"
  },
  "language_info": {
   "codemirror_mode": {
    "name": "ipython",
    "version": 3
   },
   "file_extension": ".py",
   "mimetype": "text/x-python",
   "name": "python",
   "nbconvert_exporter": "python",
   "pygments_lexer": "ipython3",
   "version": "3.8.12"
  }
 },
 "nbformat": 4,
 "nbformat_minor": 5
}
